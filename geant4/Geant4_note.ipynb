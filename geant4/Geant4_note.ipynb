{
 "cells": [
  {
   "cell_type": "markdown",
   "id": "e1895f49",
   "metadata": {
    "toc": true
   },
   "source": [
    "<h1>Table of Contents<span class=\"tocSkip\"></span></h1>\n",
    "<div class=\"toc\"><ul class=\"toc-item\"><li><span><a href=\"#B1-能量沉积\" data-toc-modified-id=\"B1-能量沉积-1\"><span class=\"toc-item-num\">1&nbsp;&nbsp;</span>B1-能量沉积</a></span><ul class=\"toc-item\"><li><span><a href=\"#回顾\" data-toc-modified-id=\"回顾-1.1\"><span class=\"toc-item-num\">1.1&nbsp;&nbsp;</span>回顾</a></span></li><li><span><a href=\"#B1中通过Action-class实现获取能量沉积\" data-toc-modified-id=\"B1中通过Action-class实现获取能量沉积-1.2\"><span class=\"toc-item-num\">1.2&nbsp;&nbsp;</span>B1中通过Action class实现获取能量沉积</a></span></li></ul></li><li><span><a href=\"#B1-多线程\" data-toc-modified-id=\"B1-多线程-2\"><span class=\"toc-item-num\">2&nbsp;&nbsp;</span>B1-多线程</a></span><ul class=\"toc-item\"><li><span><a href=\"#B1的多线程是什么意思？\" data-toc-modified-id=\"B1的多线程是什么意思？-2.1\"><span class=\"toc-item-num\">2.1&nbsp;&nbsp;</span>B1的多线程是什么意思？</a></span></li></ul></li></ul></div>"
   ]
  },
  {
   "cell_type": "markdown",
   "id": "72ec4b54",
   "metadata": {},
   "source": [
    "## B1-能量沉积\n",
    "\n",
    "### 回顾\n",
    "- run, event, step, track\n",
    "  - 一个run会有多个event\n",
    "  - 每个event会有多个step，直至粒子消亡\n",
    "  - 一个event的能量沉积相当于多个step的能损之和\n",
    "  - 每个step的信息通过track获取\n",
    "  - 进而可以通过循环求和得到粒子在介质中的能损\n",
    "  \n",
    "### B1中通过Action class实现获取能量沉积\n",
    "- B1RunAction\n",
    "  - 继承了G4UserRunAction\n",
    "  - BeginOfRunAction()\n",
    "  - EndOfRunAction()\n",
    "  - AddEdep()\n",
    "- B1EventAction\n",
    "  - 继承了G4UserEventAction\n",
    "  - BeginOfEvnetAction()\n",
    "  - EndOfEventAction()\n",
    "  - AddEdep() \n",
    "- B1SteppingAction\n",
    "  - 继承了G4UserSteppingAction\n",
    "  - UserSteppingAction()\n",
    "    - 判断粒子是否在logicvolume中：step->GerPreSetPoint()->GetTouchableHandle()->GetVolume()->GetLogicalVolume();\n",
    "- 注意\n",
    "  - BeginOfRunAction() vs BeginOfEvnetAction()\n",
    "    - BeginOfRunAction()是一个run调用一次\n",
    "    - BeginOfEvnetAction()是一个Event调用一次\n",
    "    - 如果一个run里有多个粒子，即多个evnet，那么一个BeginOfRunAction()会对应多个BeginOfEvnetAction()\n",
    "  - 一个Event中每个step结束就会调用UserSteppingAction()\n",
    "  - ybsim的能损实现是将step存入map中，然后在对map求和\n",
    "  - B1RunAction->AddEdep() vs B1EventAction->AddEdep()\n",
    "    - B1EventAction->AddEdep():多个step的Edep的叠加，单个粒子能损\n",
    "    - B1RunAction->AddEdep()：多个Event的Edep的叠加，多个粒子能损之和"
   ]
  },
  {
   "cell_type": "markdown",
   "id": "2c623e83",
   "metadata": {},
   "source": [
    "## B1-多线程\n",
    "\n",
    "### B1的多线程是什么意思？\n",
    "- 线程 vs 进程\n",
    "- 例如：run 10 gammas\n",
    "  - 单线程\n",
    "    - 判断是否为有效step\n",
    "    - 得到有效step的能量沉积，并且加和给EventAction.fEdep\n",
    "    - EventAction.fEdep加和给RunAction.fEdep\n",
    "    - 10个gamma逐次模拟\n",
    "    - 得到最终的RunAction.fEdep\n",
    "  - 多线程(**难在同一过程，多线程分步后如何合并**)\n",
    "    - 同样上述步骤，分为两条线，一条线运行5个gamma，另一条线运行5个gamma\n",
    "    - 对于EventAction.fEdep没有问题，自己和自己加和即可\n",
    "    - 但两条线会有两个RunAction.fEdep，二者如何加和呢？\n",
    "    - GetRunAction中对fEdep做了处理，即定义了两个量，一个为fEdep，一个为fEdep2\n",
    "    - B1已经写好了合并代码（G4AccumulableManager* accumulableManager）\n",
    "    - G4有个Merge功能，需要自己写代码将多个线程的变量合并\n"
   ]
  },
  {
   "cell_type": "code",
   "execution_count": null,
   "id": "89a4f17f",
   "metadata": {},
   "outputs": [],
   "source": []
  }
 ],
 "metadata": {
  "kernelspec": {
   "display_name": "Python 3 (ipykernel)",
   "language": "python",
   "name": "python3"
  },
  "language_info": {
   "codemirror_mode": {
    "name": "ipython",
    "version": 3
   },
   "file_extension": ".py",
   "mimetype": "text/x-python",
   "name": "python",
   "nbconvert_exporter": "python",
   "pygments_lexer": "ipython3",
   "version": "3.8.10"
  },
  "toc": {
   "base_numbering": 1,
   "nav_menu": {},
   "number_sections": true,
   "sideBar": true,
   "skip_h1_title": false,
   "title_cell": "Table of Contents",
   "title_sidebar": "Contents",
   "toc_cell": true,
   "toc_position": {},
   "toc_section_display": true,
   "toc_window_display": true
  }
 },
 "nbformat": 4,
 "nbformat_minor": 5
}
